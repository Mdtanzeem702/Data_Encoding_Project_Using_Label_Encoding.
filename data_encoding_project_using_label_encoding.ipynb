{
 "cells": [
  {
   "cell_type": "markdown",
   "id": "d9f3aa99-bb39-472a-a154-81b93bd63b8f",
   "metadata": {},
   "source": [
    "# Import library"
   ]
  },
  {
   "cell_type": "code",
   "execution_count": 69,
   "id": "ae2cd15a-9428-49a8-bbd2-fab37bd04bdf",
   "metadata": {},
   "outputs": [],
   "source": [
    "import pandas as pd\n",
    "import numpy as np\n",
    "import seaborn as sns\n",
    "import matplotlib.pyplot as plt\n",
    "from sklearn.preprocessing import LabelEncoder\n",
    "from sklearn.preprocessing import StandardScaler\n"
   ]
  },
  {
   "cell_type": "markdown",
   "id": "f0e0d9d0-e3fa-4a18-b2ba-64eb3ef5029b",
   "metadata": {},
   "source": [
    "# Import dataset"
   ]
  },
  {
   "cell_type": "code",
   "execution_count": 13,
   "id": "57e4ba0a-45b1-4c71-b33a-b8503b9ba58a",
   "metadata": {},
   "outputs": [],
   "source": [
    "dataset=pd.read_csv(\"C:/Users/MDTAN/OneDrive/Desktop/Grashtech.pvt.ltd/DAta set/old_car_data.csv\")"
   ]
  },
  {
   "cell_type": "markdown",
   "id": "9cbdf14c-20a0-43a6-bc5e-5e3a17a3ba61",
   "metadata": {},
   "source": [
    "# Show data file"
   ]
  },
  {
   "cell_type": "code",
   "execution_count": 61,
   "id": "abda9a20-9133-423e-9745-d373178bb901",
   "metadata": {},
   "outputs": [
    {
     "data": {
      "text/html": [
       "<div>\n",
       "<style scoped>\n",
       "    .dataframe tbody tr th:only-of-type {\n",
       "        vertical-align: middle;\n",
       "    }\n",
       "\n",
       "    .dataframe tbody tr th {\n",
       "        vertical-align: top;\n",
       "    }\n",
       "\n",
       "    .dataframe thead th {\n",
       "        text-align: right;\n",
       "    }\n",
       "</style>\n",
       "<table border=\"1\" class=\"dataframe\">\n",
       "  <thead>\n",
       "    <tr style=\"text-align: right;\">\n",
       "      <th></th>\n",
       "      <th>car_name</th>\n",
       "      <th>kms_driven</th>\n",
       "      <th>fuel_type</th>\n",
       "      <th>transmission</th>\n",
       "      <th>ownership</th>\n",
       "      <th>manufacture</th>\n",
       "      <th>engine</th>\n",
       "      <th>Seats</th>\n",
       "      <th>car_prices_in_rupee</th>\n",
       "    </tr>\n",
       "  </thead>\n",
       "  <tbody>\n",
       "    <tr>\n",
       "      <th>0</th>\n",
       "      <td>743</td>\n",
       "      <td>2351</td>\n",
       "      <td>1</td>\n",
       "      <td>1</td>\n",
       "      <td>1</td>\n",
       "      <td>2017</td>\n",
       "      <td>60</td>\n",
       "      <td>2</td>\n",
       "      <td>110</td>\n",
       "    </tr>\n",
       "    <tr>\n",
       "      <th>1</th>\n",
       "      <td>1444</td>\n",
       "      <td>491</td>\n",
       "      <td>4</td>\n",
       "      <td>0</td>\n",
       "      <td>1</td>\n",
       "      <td>2021</td>\n",
       "      <td>19</td>\n",
       "      <td>2</td>\n",
       "      <td>210</td>\n",
       "    </tr>\n",
       "    <tr>\n",
       "      <th>2</th>\n",
       "      <td>1706</td>\n",
       "      <td>1733</td>\n",
       "      <td>4</td>\n",
       "      <td>0</td>\n",
       "      <td>1</td>\n",
       "      <td>2016</td>\n",
       "      <td>88</td>\n",
       "      <td>2</td>\n",
       "      <td>302</td>\n",
       "    </tr>\n",
       "    <tr>\n",
       "      <th>3</th>\n",
       "      <td>385</td>\n",
       "      <td>820</td>\n",
       "      <td>4</td>\n",
       "      <td>0</td>\n",
       "      <td>1</td>\n",
       "      <td>2018</td>\n",
       "      <td>14</td>\n",
       "      <td>2</td>\n",
       "      <td>1110</td>\n",
       "    </tr>\n",
       "    <tr>\n",
       "      <th>4</th>\n",
       "      <td>1831</td>\n",
       "      <td>1929</td>\n",
       "      <td>4</td>\n",
       "      <td>1</td>\n",
       "      <td>1</td>\n",
       "      <td>2016</td>\n",
       "      <td>14</td>\n",
       "      <td>2</td>\n",
       "      <td>836</td>\n",
       "    </tr>\n",
       "  </tbody>\n",
       "</table>\n",
       "</div>"
      ],
      "text/plain": [
       "   car_name  kms_driven  fuel_type  transmission  ownership  manufacture  \\\n",
       "0       743        2351          1             1          1         2017   \n",
       "1      1444         491          4             0          1         2021   \n",
       "2      1706        1733          4             0          1         2016   \n",
       "3       385         820          4             0          1         2018   \n",
       "4      1831        1929          4             1          1         2016   \n",
       "\n",
       "   engine  Seats  car_prices_in_rupee  \n",
       "0      60      2                  110  \n",
       "1      19      2                  210  \n",
       "2      88      2                  302  \n",
       "3      14      2                 1110  \n",
       "4      14      2                  836  "
      ]
     },
     "execution_count": 61,
     "metadata": {},
     "output_type": "execute_result"
    }
   ],
   "source": [
    "dataset.head(5)\n"
   ]
  },
  {
   "cell_type": "markdown",
   "id": "b2fa6b22-a310-4c02-9d85-11ba9fc10f48",
   "metadata": {},
   "source": [
    "# Show the null value"
   ]
  },
  {
   "cell_type": "code",
   "execution_count": 15,
   "id": "7def4c39-e7ac-4d27-82c2-ec495e326227",
   "metadata": {},
   "outputs": [
    {
     "data": {
      "text/plain": [
       "car_name               0\n",
       "kms_driven             0\n",
       "fuel_type              0\n",
       "transmission           0\n",
       "ownership              0\n",
       "manufacture            0\n",
       "engine                 0\n",
       "Seats                  0\n",
       "car_prices_in_rupee    0\n",
       "dtype: int64"
      ]
     },
     "execution_count": 15,
     "metadata": {},
     "output_type": "execute_result"
    }
   ],
   "source": [
    "dataset.isnull().sum()"
   ]
  },
  {
   "cell_type": "markdown",
   "id": "206fadf0-5ecb-4e51-b959-61491eb10521",
   "metadata": {},
   "source": [
    "# check the data type"
   ]
  },
  {
   "cell_type": "code",
   "execution_count": 16,
   "id": "3a1d58b4-9cbc-4e2d-82c6-a20d2205e0c6",
   "metadata": {},
   "outputs": [
    {
     "name": "stdout",
     "output_type": "stream",
     "text": [
      "<class 'pandas.core.frame.DataFrame'>\n",
      "RangeIndex: 5512 entries, 0 to 5511\n",
      "Data columns (total 9 columns):\n",
      " #   Column               Non-Null Count  Dtype \n",
      "---  ------               --------------  ----- \n",
      " 0   car_name             5512 non-null   object\n",
      " 1   kms_driven           5512 non-null   object\n",
      " 2   fuel_type            5512 non-null   object\n",
      " 3   transmission         5512 non-null   object\n",
      " 4   ownership            5512 non-null   object\n",
      " 5   manufacture          5512 non-null   int64 \n",
      " 6   engine               5512 non-null   object\n",
      " 7   Seats                5512 non-null   object\n",
      " 8   car_prices_in_rupee  5512 non-null   object\n",
      "dtypes: int64(1), object(8)\n",
      "memory usage: 387.7+ KB\n"
     ]
    }
   ],
   "source": [
    "dataset.info()"
   ]
  },
  {
   "cell_type": "markdown",
   "id": "ff4135c4-0f75-4754-a3e4-cba456238c26",
   "metadata": {},
   "source": [
    "# Label data encoding "
   ]
  },
  {
   "cell_type": "markdown",
   "id": "8c469d5d-af59-4ffa-a0f4-32d9991f241f",
   "metadata": {},
   "source": [
    "# car_name"
   ]
  },
  {
   "cell_type": "code",
   "execution_count": 18,
   "id": "00d96c7d-870a-44e9-ad41-7b8d1596ad23",
   "metadata": {},
   "outputs": [],
   "source": [
    "from sklearn.preprocessing import LabelEncoder"
   ]
  },
  {
   "cell_type": "code",
   "execution_count": 62,
   "id": "338dd39f-b757-43ee-a770-0f5d73b82508",
   "metadata": {},
   "outputs": [],
   "source": [
    "car_name_le =LabelEncoder()"
   ]
  },
  {
   "cell_type": "code",
   "execution_count": 63,
   "id": "75303e56-2c71-401d-9684-dd099e048cf3",
   "metadata": {},
   "outputs": [],
   "source": [
    "dataset[\"car_name\"]=car_name_le.fit_transform(dataset[\"car_name\"])"
   ]
  },
  {
   "cell_type": "code",
   "execution_count": 22,
   "id": "c5e22192-e6aa-4359-8a58-5b99838f0a56",
   "metadata": {},
   "outputs": [
    {
     "data": {
      "text/html": [
       "<div>\n",
       "<style scoped>\n",
       "    .dataframe tbody tr th:only-of-type {\n",
       "        vertical-align: middle;\n",
       "    }\n",
       "\n",
       "    .dataframe tbody tr th {\n",
       "        vertical-align: top;\n",
       "    }\n",
       "\n",
       "    .dataframe thead th {\n",
       "        text-align: right;\n",
       "    }\n",
       "</style>\n",
       "<table border=\"1\" class=\"dataframe\">\n",
       "  <thead>\n",
       "    <tr style=\"text-align: right;\">\n",
       "      <th></th>\n",
       "      <th>car_name</th>\n",
       "      <th>kms_driven</th>\n",
       "      <th>fuel_type</th>\n",
       "      <th>transmission</th>\n",
       "      <th>ownership</th>\n",
       "      <th>manufacture</th>\n",
       "      <th>engine</th>\n",
       "      <th>Seats</th>\n",
       "      <th>car_prices_in_rupee</th>\n",
       "    </tr>\n",
       "  </thead>\n",
       "  <tbody>\n",
       "    <tr>\n",
       "      <th>0</th>\n",
       "      <td>743</td>\n",
       "      <td>86,226 kms</td>\n",
       "      <td>Diesel</td>\n",
       "      <td>Manual</td>\n",
       "      <td>1st Owner</td>\n",
       "      <td>2017</td>\n",
       "      <td>1956 cc</td>\n",
       "      <td>5 Seats</td>\n",
       "      <td>10.03 Lakh</td>\n",
       "    </tr>\n",
       "    <tr>\n",
       "      <th>1</th>\n",
       "      <td>1444</td>\n",
       "      <td>13,248 kms</td>\n",
       "      <td>Petrol</td>\n",
       "      <td>Automatic</td>\n",
       "      <td>1st Owner</td>\n",
       "      <td>2021</td>\n",
       "      <td>1330 cc</td>\n",
       "      <td>5 Seats</td>\n",
       "      <td>12.83 Lakh</td>\n",
       "    </tr>\n",
       "    <tr>\n",
       "      <th>2</th>\n",
       "      <td>1706</td>\n",
       "      <td>60,343 kms</td>\n",
       "      <td>Petrol</td>\n",
       "      <td>Automatic</td>\n",
       "      <td>1st Owner</td>\n",
       "      <td>2016</td>\n",
       "      <td>2494 cc</td>\n",
       "      <td>5 Seats</td>\n",
       "      <td>16.40 Lakh</td>\n",
       "    </tr>\n",
       "  </tbody>\n",
       "</table>\n",
       "</div>"
      ],
      "text/plain": [
       "   car_name  kms_driven fuel_type transmission  ownership  manufacture  \\\n",
       "0       743  86,226 kms    Diesel       Manual  1st Owner         2017   \n",
       "1      1444  13,248 kms    Petrol    Automatic  1st Owner         2021   \n",
       "2      1706  60,343 kms    Petrol    Automatic  1st Owner         2016   \n",
       "\n",
       "    engine    Seats car_prices_in_rupee  \n",
       "0  1956 cc  5 Seats          10.03 Lakh  \n",
       "1  1330 cc  5 Seats          12.83 Lakh  \n",
       "2  2494 cc  5 Seats          16.40 Lakh  "
      ]
     },
     "execution_count": 22,
     "metadata": {},
     "output_type": "execute_result"
    }
   ],
   "source": [
    "dataset.head(3)"
   ]
  },
  {
   "cell_type": "markdown",
   "id": "36f3af6a-f682-405d-bd7f-ef839aa87f79",
   "metadata": {},
   "source": [
    "# kms_driven"
   ]
  },
  {
   "cell_type": "code",
   "execution_count": null,
   "id": "81d80d8d-d510-4b39-9669-524fd514c5fd",
   "metadata": {},
   "outputs": [],
   "source": [
    "from sklearn.preprocessing import LabelEncoder"
   ]
  },
  {
   "cell_type": "code",
   "execution_count": 23,
   "id": "8ce32f9d-267c-43f6-a66e-b0dc6dd7c92a",
   "metadata": {},
   "outputs": [],
   "source": [
    "Kms_driven_le =LabelEncoder()"
   ]
  },
  {
   "cell_type": "code",
   "execution_count": 24,
   "id": "bfb6546e-342b-497a-a33b-16b139abc8b5",
   "metadata": {},
   "outputs": [],
   "source": [
    "dataset[\"kms_driven\"]= Kms_driven_le.fit_transform(dataset[\"kms_driven\"])"
   ]
  },
  {
   "cell_type": "code",
   "execution_count": 25,
   "id": "ee33ac9f-a811-48bc-bf50-fc444fa55ede",
   "metadata": {},
   "outputs": [
    {
     "data": {
      "text/html": [
       "<div>\n",
       "<style scoped>\n",
       "    .dataframe tbody tr th:only-of-type {\n",
       "        vertical-align: middle;\n",
       "    }\n",
       "\n",
       "    .dataframe tbody tr th {\n",
       "        vertical-align: top;\n",
       "    }\n",
       "\n",
       "    .dataframe thead th {\n",
       "        text-align: right;\n",
       "    }\n",
       "</style>\n",
       "<table border=\"1\" class=\"dataframe\">\n",
       "  <thead>\n",
       "    <tr style=\"text-align: right;\">\n",
       "      <th></th>\n",
       "      <th>car_name</th>\n",
       "      <th>kms_driven</th>\n",
       "      <th>fuel_type</th>\n",
       "      <th>transmission</th>\n",
       "      <th>ownership</th>\n",
       "      <th>manufacture</th>\n",
       "      <th>engine</th>\n",
       "      <th>Seats</th>\n",
       "      <th>car_prices_in_rupee</th>\n",
       "    </tr>\n",
       "  </thead>\n",
       "  <tbody>\n",
       "    <tr>\n",
       "      <th>0</th>\n",
       "      <td>743</td>\n",
       "      <td>2351</td>\n",
       "      <td>Diesel</td>\n",
       "      <td>Manual</td>\n",
       "      <td>1st Owner</td>\n",
       "      <td>2017</td>\n",
       "      <td>1956 cc</td>\n",
       "      <td>5 Seats</td>\n",
       "      <td>10.03 Lakh</td>\n",
       "    </tr>\n",
       "    <tr>\n",
       "      <th>1</th>\n",
       "      <td>1444</td>\n",
       "      <td>491</td>\n",
       "      <td>Petrol</td>\n",
       "      <td>Automatic</td>\n",
       "      <td>1st Owner</td>\n",
       "      <td>2021</td>\n",
       "      <td>1330 cc</td>\n",
       "      <td>5 Seats</td>\n",
       "      <td>12.83 Lakh</td>\n",
       "    </tr>\n",
       "    <tr>\n",
       "      <th>2</th>\n",
       "      <td>1706</td>\n",
       "      <td>1733</td>\n",
       "      <td>Petrol</td>\n",
       "      <td>Automatic</td>\n",
       "      <td>1st Owner</td>\n",
       "      <td>2016</td>\n",
       "      <td>2494 cc</td>\n",
       "      <td>5 Seats</td>\n",
       "      <td>16.40 Lakh</td>\n",
       "    </tr>\n",
       "  </tbody>\n",
       "</table>\n",
       "</div>"
      ],
      "text/plain": [
       "   car_name  kms_driven fuel_type transmission  ownership  manufacture  \\\n",
       "0       743        2351    Diesel       Manual  1st Owner         2017   \n",
       "1      1444         491    Petrol    Automatic  1st Owner         2021   \n",
       "2      1706        1733    Petrol    Automatic  1st Owner         2016   \n",
       "\n",
       "    engine    Seats car_prices_in_rupee  \n",
       "0  1956 cc  5 Seats          10.03 Lakh  \n",
       "1  1330 cc  5 Seats          12.83 Lakh  \n",
       "2  2494 cc  5 Seats          16.40 Lakh  "
      ]
     },
     "execution_count": 25,
     "metadata": {},
     "output_type": "execute_result"
    }
   ],
   "source": [
    "dataset.head(3)"
   ]
  },
  {
   "cell_type": "markdown",
   "id": "af9d3326-499a-4dd3-8481-ef08739e90dc",
   "metadata": {},
   "source": [
    "# fuel_type"
   ]
  },
  {
   "cell_type": "code",
   "execution_count": 26,
   "id": "c0d531f8-8b96-4ee0-9200-29e0fff99fdd",
   "metadata": {},
   "outputs": [],
   "source": [
    "from sklearn.preprocessing import LabelEncoder"
   ]
  },
  {
   "cell_type": "code",
   "execution_count": 27,
   "id": "22929521-bee5-48c1-bc29-b94a74e7843a",
   "metadata": {},
   "outputs": [],
   "source": [
    "fuel_type_le=LabelEncoder()"
   ]
  },
  {
   "cell_type": "code",
   "execution_count": 28,
   "id": "294c7388-271b-409f-b788-b6d463ab337c",
   "metadata": {},
   "outputs": [],
   "source": [
    "dataset[\"fuel_type\"]=fuel_type_le.fit_transform(dataset[\"fuel_type\"])"
   ]
  },
  {
   "cell_type": "code",
   "execution_count": 29,
   "id": "37a3aa0c-be46-413e-8bfa-4f82e7b6788f",
   "metadata": {},
   "outputs": [
    {
     "data": {
      "text/html": [
       "<div>\n",
       "<style scoped>\n",
       "    .dataframe tbody tr th:only-of-type {\n",
       "        vertical-align: middle;\n",
       "    }\n",
       "\n",
       "    .dataframe tbody tr th {\n",
       "        vertical-align: top;\n",
       "    }\n",
       "\n",
       "    .dataframe thead th {\n",
       "        text-align: right;\n",
       "    }\n",
       "</style>\n",
       "<table border=\"1\" class=\"dataframe\">\n",
       "  <thead>\n",
       "    <tr style=\"text-align: right;\">\n",
       "      <th></th>\n",
       "      <th>car_name</th>\n",
       "      <th>kms_driven</th>\n",
       "      <th>fuel_type</th>\n",
       "      <th>transmission</th>\n",
       "      <th>ownership</th>\n",
       "      <th>manufacture</th>\n",
       "      <th>engine</th>\n",
       "      <th>Seats</th>\n",
       "      <th>car_prices_in_rupee</th>\n",
       "    </tr>\n",
       "  </thead>\n",
       "  <tbody>\n",
       "    <tr>\n",
       "      <th>0</th>\n",
       "      <td>743</td>\n",
       "      <td>2351</td>\n",
       "      <td>1</td>\n",
       "      <td>Manual</td>\n",
       "      <td>1st Owner</td>\n",
       "      <td>2017</td>\n",
       "      <td>1956 cc</td>\n",
       "      <td>5 Seats</td>\n",
       "      <td>10.03 Lakh</td>\n",
       "    </tr>\n",
       "    <tr>\n",
       "      <th>1</th>\n",
       "      <td>1444</td>\n",
       "      <td>491</td>\n",
       "      <td>4</td>\n",
       "      <td>Automatic</td>\n",
       "      <td>1st Owner</td>\n",
       "      <td>2021</td>\n",
       "      <td>1330 cc</td>\n",
       "      <td>5 Seats</td>\n",
       "      <td>12.83 Lakh</td>\n",
       "    </tr>\n",
       "    <tr>\n",
       "      <th>2</th>\n",
       "      <td>1706</td>\n",
       "      <td>1733</td>\n",
       "      <td>4</td>\n",
       "      <td>Automatic</td>\n",
       "      <td>1st Owner</td>\n",
       "      <td>2016</td>\n",
       "      <td>2494 cc</td>\n",
       "      <td>5 Seats</td>\n",
       "      <td>16.40 Lakh</td>\n",
       "    </tr>\n",
       "  </tbody>\n",
       "</table>\n",
       "</div>"
      ],
      "text/plain": [
       "   car_name  kms_driven  fuel_type transmission  ownership  manufacture  \\\n",
       "0       743        2351          1       Manual  1st Owner         2017   \n",
       "1      1444         491          4    Automatic  1st Owner         2021   \n",
       "2      1706        1733          4    Automatic  1st Owner         2016   \n",
       "\n",
       "    engine    Seats car_prices_in_rupee  \n",
       "0  1956 cc  5 Seats          10.03 Lakh  \n",
       "1  1330 cc  5 Seats          12.83 Lakh  \n",
       "2  2494 cc  5 Seats          16.40 Lakh  "
      ]
     },
     "execution_count": 29,
     "metadata": {},
     "output_type": "execute_result"
    }
   ],
   "source": [
    "dataset.head(3)"
   ]
  },
  {
   "cell_type": "markdown",
   "id": "f9bfafe7-9821-40ce-a828-ffd74e644bad",
   "metadata": {},
   "source": [
    "# transmission\t"
   ]
  },
  {
   "cell_type": "code",
   "execution_count": 30,
   "id": "a2cf6057-b11b-45a2-b7b7-930e308ef67e",
   "metadata": {},
   "outputs": [],
   "source": [
    "from sklearn.preprocessing import LabelEncoder"
   ]
  },
  {
   "cell_type": "code",
   "execution_count": 31,
   "id": "553017ff-7804-4c72-8505-94239e61dae1",
   "metadata": {},
   "outputs": [],
   "source": [
    "transmission_le=LabelEncoder()"
   ]
  },
  {
   "cell_type": "code",
   "execution_count": 32,
   "id": "316d2b1c-5e0c-4696-ae95-cd59a00a2e04",
   "metadata": {},
   "outputs": [],
   "source": [
    "dataset[\"transmission\"]=transmission_le.fit_transform(dataset[\"transmission\"])\t"
   ]
  },
  {
   "cell_type": "code",
   "execution_count": 33,
   "id": "17ff70a2-7a4c-480c-9709-1a1b3d1c32a1",
   "metadata": {},
   "outputs": [
    {
     "data": {
      "text/html": [
       "<div>\n",
       "<style scoped>\n",
       "    .dataframe tbody tr th:only-of-type {\n",
       "        vertical-align: middle;\n",
       "    }\n",
       "\n",
       "    .dataframe tbody tr th {\n",
       "        vertical-align: top;\n",
       "    }\n",
       "\n",
       "    .dataframe thead th {\n",
       "        text-align: right;\n",
       "    }\n",
       "</style>\n",
       "<table border=\"1\" class=\"dataframe\">\n",
       "  <thead>\n",
       "    <tr style=\"text-align: right;\">\n",
       "      <th></th>\n",
       "      <th>car_name</th>\n",
       "      <th>kms_driven</th>\n",
       "      <th>fuel_type</th>\n",
       "      <th>transmission</th>\n",
       "      <th>ownership</th>\n",
       "      <th>manufacture</th>\n",
       "      <th>engine</th>\n",
       "      <th>Seats</th>\n",
       "      <th>car_prices_in_rupee</th>\n",
       "    </tr>\n",
       "  </thead>\n",
       "  <tbody>\n",
       "    <tr>\n",
       "      <th>0</th>\n",
       "      <td>743</td>\n",
       "      <td>2351</td>\n",
       "      <td>1</td>\n",
       "      <td>1</td>\n",
       "      <td>1st Owner</td>\n",
       "      <td>2017</td>\n",
       "      <td>1956 cc</td>\n",
       "      <td>5 Seats</td>\n",
       "      <td>10.03 Lakh</td>\n",
       "    </tr>\n",
       "    <tr>\n",
       "      <th>1</th>\n",
       "      <td>1444</td>\n",
       "      <td>491</td>\n",
       "      <td>4</td>\n",
       "      <td>0</td>\n",
       "      <td>1st Owner</td>\n",
       "      <td>2021</td>\n",
       "      <td>1330 cc</td>\n",
       "      <td>5 Seats</td>\n",
       "      <td>12.83 Lakh</td>\n",
       "    </tr>\n",
       "    <tr>\n",
       "      <th>2</th>\n",
       "      <td>1706</td>\n",
       "      <td>1733</td>\n",
       "      <td>4</td>\n",
       "      <td>0</td>\n",
       "      <td>1st Owner</td>\n",
       "      <td>2016</td>\n",
       "      <td>2494 cc</td>\n",
       "      <td>5 Seats</td>\n",
       "      <td>16.40 Lakh</td>\n",
       "    </tr>\n",
       "  </tbody>\n",
       "</table>\n",
       "</div>"
      ],
      "text/plain": [
       "   car_name  kms_driven  fuel_type  transmission  ownership  manufacture  \\\n",
       "0       743        2351          1             1  1st Owner         2017   \n",
       "1      1444         491          4             0  1st Owner         2021   \n",
       "2      1706        1733          4             0  1st Owner         2016   \n",
       "\n",
       "    engine    Seats car_prices_in_rupee  \n",
       "0  1956 cc  5 Seats          10.03 Lakh  \n",
       "1  1330 cc  5 Seats          12.83 Lakh  \n",
       "2  2494 cc  5 Seats          16.40 Lakh  "
      ]
     },
     "execution_count": 33,
     "metadata": {},
     "output_type": "execute_result"
    }
   ],
   "source": [
    "dataset.head(3)"
   ]
  },
  {
   "cell_type": "markdown",
   "id": "5deb63ba-cd7c-4957-b83f-168ec61e63ee",
   "metadata": {},
   "source": [
    "# ownership"
   ]
  },
  {
   "cell_type": "code",
   "execution_count": 34,
   "id": "3e703662-ed18-4e96-8705-9fccf7a320e4",
   "metadata": {},
   "outputs": [],
   "source": [
    "from sklearn.preprocessing import LabelEncoder"
   ]
  },
  {
   "cell_type": "code",
   "execution_count": 35,
   "id": "5a5e4db4-3d6d-4aca-b355-db8e93adfc19",
   "metadata": {},
   "outputs": [],
   "source": [
    "ownership_le= LabelEncoder()"
   ]
  },
  {
   "cell_type": "code",
   "execution_count": 36,
   "id": "90dae2d4-18a5-4ba0-b852-c1cbdac0b0d3",
   "metadata": {},
   "outputs": [],
   "source": [
    "dataset[\"ownership\"]=ownership_le.fit_transform(dataset[\"ownership\"])"
   ]
  },
  {
   "cell_type": "code",
   "execution_count": 37,
   "id": "2a5b36f3-1bbd-47ee-af77-96f493afbd77",
   "metadata": {},
   "outputs": [
    {
     "data": {
      "text/html": [
       "<div>\n",
       "<style scoped>\n",
       "    .dataframe tbody tr th:only-of-type {\n",
       "        vertical-align: middle;\n",
       "    }\n",
       "\n",
       "    .dataframe tbody tr th {\n",
       "        vertical-align: top;\n",
       "    }\n",
       "\n",
       "    .dataframe thead th {\n",
       "        text-align: right;\n",
       "    }\n",
       "</style>\n",
       "<table border=\"1\" class=\"dataframe\">\n",
       "  <thead>\n",
       "    <tr style=\"text-align: right;\">\n",
       "      <th></th>\n",
       "      <th>car_name</th>\n",
       "      <th>kms_driven</th>\n",
       "      <th>fuel_type</th>\n",
       "      <th>transmission</th>\n",
       "      <th>ownership</th>\n",
       "      <th>manufacture</th>\n",
       "      <th>engine</th>\n",
       "      <th>Seats</th>\n",
       "      <th>car_prices_in_rupee</th>\n",
       "    </tr>\n",
       "  </thead>\n",
       "  <tbody>\n",
       "    <tr>\n",
       "      <th>0</th>\n",
       "      <td>743</td>\n",
       "      <td>2351</td>\n",
       "      <td>1</td>\n",
       "      <td>1</td>\n",
       "      <td>1</td>\n",
       "      <td>2017</td>\n",
       "      <td>1956 cc</td>\n",
       "      <td>5 Seats</td>\n",
       "      <td>10.03 Lakh</td>\n",
       "    </tr>\n",
       "    <tr>\n",
       "      <th>1</th>\n",
       "      <td>1444</td>\n",
       "      <td>491</td>\n",
       "      <td>4</td>\n",
       "      <td>0</td>\n",
       "      <td>1</td>\n",
       "      <td>2021</td>\n",
       "      <td>1330 cc</td>\n",
       "      <td>5 Seats</td>\n",
       "      <td>12.83 Lakh</td>\n",
       "    </tr>\n",
       "    <tr>\n",
       "      <th>2</th>\n",
       "      <td>1706</td>\n",
       "      <td>1733</td>\n",
       "      <td>4</td>\n",
       "      <td>0</td>\n",
       "      <td>1</td>\n",
       "      <td>2016</td>\n",
       "      <td>2494 cc</td>\n",
       "      <td>5 Seats</td>\n",
       "      <td>16.40 Lakh</td>\n",
       "    </tr>\n",
       "  </tbody>\n",
       "</table>\n",
       "</div>"
      ],
      "text/plain": [
       "   car_name  kms_driven  fuel_type  transmission  ownership  manufacture  \\\n",
       "0       743        2351          1             1          1         2017   \n",
       "1      1444         491          4             0          1         2021   \n",
       "2      1706        1733          4             0          1         2016   \n",
       "\n",
       "    engine    Seats car_prices_in_rupee  \n",
       "0  1956 cc  5 Seats          10.03 Lakh  \n",
       "1  1330 cc  5 Seats          12.83 Lakh  \n",
       "2  2494 cc  5 Seats          16.40 Lakh  "
      ]
     },
     "execution_count": 37,
     "metadata": {},
     "output_type": "execute_result"
    }
   ],
   "source": [
    "dataset.head(3)"
   ]
  },
  {
   "cell_type": "markdown",
   "id": "2b009226-3c55-4caf-bc5e-063b574b54d9",
   "metadata": {},
   "source": [
    "# engine"
   ]
  },
  {
   "cell_type": "code",
   "execution_count": 38,
   "id": "afe22c6f-5bb2-4cd9-91bd-f9958d3c23b2",
   "metadata": {},
   "outputs": [],
   "source": [
    "from sklearn.preprocessing import LabelEncoder"
   ]
  },
  {
   "cell_type": "code",
   "execution_count": 39,
   "id": "bf0b355a-d274-4ead-8e3e-e3fc3e57c116",
   "metadata": {},
   "outputs": [],
   "source": [
    "engine_le=LabelEncoder()"
   ]
  },
  {
   "cell_type": "code",
   "execution_count": 40,
   "id": "320f5426-bf92-444a-ba11-944c382ca7c0",
   "metadata": {},
   "outputs": [],
   "source": [
    "dataset[\"engine\"]=engine_le.fit_transform(dataset[\"engine\"])"
   ]
  },
  {
   "cell_type": "code",
   "execution_count": 41,
   "id": "ceb59850-dbf0-4ffa-a401-beb3167a4e89",
   "metadata": {},
   "outputs": [
    {
     "data": {
      "text/html": [
       "<div>\n",
       "<style scoped>\n",
       "    .dataframe tbody tr th:only-of-type {\n",
       "        vertical-align: middle;\n",
       "    }\n",
       "\n",
       "    .dataframe tbody tr th {\n",
       "        vertical-align: top;\n",
       "    }\n",
       "\n",
       "    .dataframe thead th {\n",
       "        text-align: right;\n",
       "    }\n",
       "</style>\n",
       "<table border=\"1\" class=\"dataframe\">\n",
       "  <thead>\n",
       "    <tr style=\"text-align: right;\">\n",
       "      <th></th>\n",
       "      <th>car_name</th>\n",
       "      <th>kms_driven</th>\n",
       "      <th>fuel_type</th>\n",
       "      <th>transmission</th>\n",
       "      <th>ownership</th>\n",
       "      <th>manufacture</th>\n",
       "      <th>engine</th>\n",
       "      <th>Seats</th>\n",
       "      <th>car_prices_in_rupee</th>\n",
       "    </tr>\n",
       "  </thead>\n",
       "  <tbody>\n",
       "    <tr>\n",
       "      <th>0</th>\n",
       "      <td>743</td>\n",
       "      <td>2351</td>\n",
       "      <td>1</td>\n",
       "      <td>1</td>\n",
       "      <td>1</td>\n",
       "      <td>2017</td>\n",
       "      <td>60</td>\n",
       "      <td>5 Seats</td>\n",
       "      <td>10.03 Lakh</td>\n",
       "    </tr>\n",
       "    <tr>\n",
       "      <th>1</th>\n",
       "      <td>1444</td>\n",
       "      <td>491</td>\n",
       "      <td>4</td>\n",
       "      <td>0</td>\n",
       "      <td>1</td>\n",
       "      <td>2021</td>\n",
       "      <td>19</td>\n",
       "      <td>5 Seats</td>\n",
       "      <td>12.83 Lakh</td>\n",
       "    </tr>\n",
       "    <tr>\n",
       "      <th>2</th>\n",
       "      <td>1706</td>\n",
       "      <td>1733</td>\n",
       "      <td>4</td>\n",
       "      <td>0</td>\n",
       "      <td>1</td>\n",
       "      <td>2016</td>\n",
       "      <td>88</td>\n",
       "      <td>5 Seats</td>\n",
       "      <td>16.40 Lakh</td>\n",
       "    </tr>\n",
       "  </tbody>\n",
       "</table>\n",
       "</div>"
      ],
      "text/plain": [
       "   car_name  kms_driven  fuel_type  transmission  ownership  manufacture  \\\n",
       "0       743        2351          1             1          1         2017   \n",
       "1      1444         491          4             0          1         2021   \n",
       "2      1706        1733          4             0          1         2016   \n",
       "\n",
       "   engine    Seats car_prices_in_rupee  \n",
       "0      60  5 Seats          10.03 Lakh  \n",
       "1      19  5 Seats          12.83 Lakh  \n",
       "2      88  5 Seats          16.40 Lakh  "
      ]
     },
     "execution_count": 41,
     "metadata": {},
     "output_type": "execute_result"
    }
   ],
   "source": [
    "dataset.head(3)"
   ]
  },
  {
   "cell_type": "markdown",
   "id": "e5e0bdb7-f5ae-451e-8bd6-05769e29056e",
   "metadata": {},
   "source": [
    "# Seats\t"
   ]
  },
  {
   "cell_type": "code",
   "execution_count": 42,
   "id": "f2962462-72ca-41f3-b9fb-725671c3058e",
   "metadata": {},
   "outputs": [],
   "source": [
    "from sklearn.preprocessing import LabelEncoder"
   ]
  },
  {
   "cell_type": "code",
   "execution_count": 43,
   "id": "4d0de1d9-9cfd-4724-872b-340dff98bfb4",
   "metadata": {},
   "outputs": [],
   "source": [
    "Seats_le=LabelEncoder()\t"
   ]
  },
  {
   "cell_type": "code",
   "execution_count": 44,
   "id": "78fb7fac-6b7d-4678-a1d4-e4fb9c07a1a7",
   "metadata": {},
   "outputs": [],
   "source": [
    "dataset[\"Seats\"]=Seats_le.fit_transform(dataset[\"Seats\"])\t"
   ]
  },
  {
   "cell_type": "code",
   "execution_count": 45,
   "id": "14b019af-0583-4660-a318-df1a417dc29f",
   "metadata": {},
   "outputs": [
    {
     "data": {
      "text/html": [
       "<div>\n",
       "<style scoped>\n",
       "    .dataframe tbody tr th:only-of-type {\n",
       "        vertical-align: middle;\n",
       "    }\n",
       "\n",
       "    .dataframe tbody tr th {\n",
       "        vertical-align: top;\n",
       "    }\n",
       "\n",
       "    .dataframe thead th {\n",
       "        text-align: right;\n",
       "    }\n",
       "</style>\n",
       "<table border=\"1\" class=\"dataframe\">\n",
       "  <thead>\n",
       "    <tr style=\"text-align: right;\">\n",
       "      <th></th>\n",
       "      <th>car_name</th>\n",
       "      <th>kms_driven</th>\n",
       "      <th>fuel_type</th>\n",
       "      <th>transmission</th>\n",
       "      <th>ownership</th>\n",
       "      <th>manufacture</th>\n",
       "      <th>engine</th>\n",
       "      <th>Seats</th>\n",
       "      <th>car_prices_in_rupee</th>\n",
       "    </tr>\n",
       "  </thead>\n",
       "  <tbody>\n",
       "    <tr>\n",
       "      <th>0</th>\n",
       "      <td>743</td>\n",
       "      <td>2351</td>\n",
       "      <td>1</td>\n",
       "      <td>1</td>\n",
       "      <td>1</td>\n",
       "      <td>2017</td>\n",
       "      <td>60</td>\n",
       "      <td>2</td>\n",
       "      <td>10.03 Lakh</td>\n",
       "    </tr>\n",
       "    <tr>\n",
       "      <th>1</th>\n",
       "      <td>1444</td>\n",
       "      <td>491</td>\n",
       "      <td>4</td>\n",
       "      <td>0</td>\n",
       "      <td>1</td>\n",
       "      <td>2021</td>\n",
       "      <td>19</td>\n",
       "      <td>2</td>\n",
       "      <td>12.83 Lakh</td>\n",
       "    </tr>\n",
       "    <tr>\n",
       "      <th>2</th>\n",
       "      <td>1706</td>\n",
       "      <td>1733</td>\n",
       "      <td>4</td>\n",
       "      <td>0</td>\n",
       "      <td>1</td>\n",
       "      <td>2016</td>\n",
       "      <td>88</td>\n",
       "      <td>2</td>\n",
       "      <td>16.40 Lakh</td>\n",
       "    </tr>\n",
       "  </tbody>\n",
       "</table>\n",
       "</div>"
      ],
      "text/plain": [
       "   car_name  kms_driven  fuel_type  transmission  ownership  manufacture  \\\n",
       "0       743        2351          1             1          1         2017   \n",
       "1      1444         491          4             0          1         2021   \n",
       "2      1706        1733          4             0          1         2016   \n",
       "\n",
       "   engine  Seats car_prices_in_rupee  \n",
       "0      60      2          10.03 Lakh  \n",
       "1      19      2          12.83 Lakh  \n",
       "2      88      2          16.40 Lakh  "
      ]
     },
     "execution_count": 45,
     "metadata": {},
     "output_type": "execute_result"
    }
   ],
   "source": [
    "\n",
    "dataset.head(3)"
   ]
  },
  {
   "cell_type": "markdown",
   "id": "66b31b41-3fb1-4b76-a730-d76c5e42f626",
   "metadata": {},
   "source": [
    "# car_prices_in_rupee"
   ]
  },
  {
   "cell_type": "code",
   "execution_count": 46,
   "id": "e5516982-aa73-41ee-adfc-2fbc10a36d53",
   "metadata": {},
   "outputs": [],
   "source": [
    "from sklearn.preprocessing import LabelEncoder"
   ]
  },
  {
   "cell_type": "code",
   "execution_count": 47,
   "id": "562aebf5-c77d-432a-9f51-0ac0e0136841",
   "metadata": {},
   "outputs": [],
   "source": [
    "car_prices_in_rupee_le=LabelEncoder()"
   ]
  },
  {
   "cell_type": "code",
   "execution_count": 48,
   "id": "80e8ec75-7353-440a-8abe-ee113a171ac8",
   "metadata": {},
   "outputs": [],
   "source": [
    "dataset[\"car_prices_in_rupee\"]=car_prices_in_rupee_le.fit_transform(dataset[\"car_prices_in_rupee\"])"
   ]
  },
  {
   "cell_type": "code",
   "execution_count": 49,
   "id": "1521d43a-3a93-44b1-833a-aa1146e72732",
   "metadata": {},
   "outputs": [
    {
     "data": {
      "text/html": [
       "<div>\n",
       "<style scoped>\n",
       "    .dataframe tbody tr th:only-of-type {\n",
       "        vertical-align: middle;\n",
       "    }\n",
       "\n",
       "    .dataframe tbody tr th {\n",
       "        vertical-align: top;\n",
       "    }\n",
       "\n",
       "    .dataframe thead th {\n",
       "        text-align: right;\n",
       "    }\n",
       "</style>\n",
       "<table border=\"1\" class=\"dataframe\">\n",
       "  <thead>\n",
       "    <tr style=\"text-align: right;\">\n",
       "      <th></th>\n",
       "      <th>car_name</th>\n",
       "      <th>kms_driven</th>\n",
       "      <th>fuel_type</th>\n",
       "      <th>transmission</th>\n",
       "      <th>ownership</th>\n",
       "      <th>manufacture</th>\n",
       "      <th>engine</th>\n",
       "      <th>Seats</th>\n",
       "      <th>car_prices_in_rupee</th>\n",
       "    </tr>\n",
       "  </thead>\n",
       "  <tbody>\n",
       "    <tr>\n",
       "      <th>0</th>\n",
       "      <td>743</td>\n",
       "      <td>2351</td>\n",
       "      <td>1</td>\n",
       "      <td>1</td>\n",
       "      <td>1</td>\n",
       "      <td>2017</td>\n",
       "      <td>60</td>\n",
       "      <td>2</td>\n",
       "      <td>110</td>\n",
       "    </tr>\n",
       "    <tr>\n",
       "      <th>1</th>\n",
       "      <td>1444</td>\n",
       "      <td>491</td>\n",
       "      <td>4</td>\n",
       "      <td>0</td>\n",
       "      <td>1</td>\n",
       "      <td>2021</td>\n",
       "      <td>19</td>\n",
       "      <td>2</td>\n",
       "      <td>210</td>\n",
       "    </tr>\n",
       "    <tr>\n",
       "      <th>2</th>\n",
       "      <td>1706</td>\n",
       "      <td>1733</td>\n",
       "      <td>4</td>\n",
       "      <td>0</td>\n",
       "      <td>1</td>\n",
       "      <td>2016</td>\n",
       "      <td>88</td>\n",
       "      <td>2</td>\n",
       "      <td>302</td>\n",
       "    </tr>\n",
       "  </tbody>\n",
       "</table>\n",
       "</div>"
      ],
      "text/plain": [
       "   car_name  kms_driven  fuel_type  transmission  ownership  manufacture  \\\n",
       "0       743        2351          1             1          1         2017   \n",
       "1      1444         491          4             0          1         2021   \n",
       "2      1706        1733          4             0          1         2016   \n",
       "\n",
       "   engine  Seats  car_prices_in_rupee  \n",
       "0      60      2                  110  \n",
       "1      19      2                  210  \n",
       "2      88      2                  302  "
      ]
     },
     "execution_count": 49,
     "metadata": {},
     "output_type": "execute_result"
    }
   ],
   "source": [
    "dataset.head(3)"
   ]
  },
  {
   "cell_type": "markdown",
   "id": "fdf0ac00-020f-457d-9f2f-cd2b1ac3938d",
   "metadata": {},
   "source": [
    "# get data from dataset"
   ]
  },
  {
   "cell_type": "code",
   "execution_count": 51,
   "id": "46043085-0f51-4744-8607-cce686af3428",
   "metadata": {},
   "outputs": [
    {
     "data": {
      "text/html": [
       "<div>\n",
       "<style scoped>\n",
       "    .dataframe tbody tr th:only-of-type {\n",
       "        vertical-align: middle;\n",
       "    }\n",
       "\n",
       "    .dataframe tbody tr th {\n",
       "        vertical-align: top;\n",
       "    }\n",
       "\n",
       "    .dataframe thead th {\n",
       "        text-align: right;\n",
       "    }\n",
       "</style>\n",
       "<table border=\"1\" class=\"dataframe\">\n",
       "  <thead>\n",
       "    <tr style=\"text-align: right;\">\n",
       "      <th></th>\n",
       "      <th>car_name</th>\n",
       "      <th>kms_driven</th>\n",
       "      <th>fuel_type</th>\n",
       "      <th>transmission</th>\n",
       "      <th>ownership</th>\n",
       "      <th>manufacture</th>\n",
       "      <th>engine</th>\n",
       "      <th>Seats</th>\n",
       "    </tr>\n",
       "  </thead>\n",
       "  <tbody>\n",
       "    <tr>\n",
       "      <th>0</th>\n",
       "      <td>743</td>\n",
       "      <td>2351</td>\n",
       "      <td>1</td>\n",
       "      <td>1</td>\n",
       "      <td>1</td>\n",
       "      <td>2017</td>\n",
       "      <td>60</td>\n",
       "      <td>2</td>\n",
       "    </tr>\n",
       "    <tr>\n",
       "      <th>1</th>\n",
       "      <td>1444</td>\n",
       "      <td>491</td>\n",
       "      <td>4</td>\n",
       "      <td>0</td>\n",
       "      <td>1</td>\n",
       "      <td>2021</td>\n",
       "      <td>19</td>\n",
       "      <td>2</td>\n",
       "    </tr>\n",
       "    <tr>\n",
       "      <th>2</th>\n",
       "      <td>1706</td>\n",
       "      <td>1733</td>\n",
       "      <td>4</td>\n",
       "      <td>0</td>\n",
       "      <td>1</td>\n",
       "      <td>2016</td>\n",
       "      <td>88</td>\n",
       "      <td>2</td>\n",
       "    </tr>\n",
       "  </tbody>\n",
       "</table>\n",
       "</div>"
      ],
      "text/plain": [
       "   car_name  kms_driven  fuel_type  transmission  ownership  manufacture  \\\n",
       "0       743        2351          1             1          1         2017   \n",
       "1      1444         491          4             0          1         2021   \n",
       "2      1706        1733          4             0          1         2016   \n",
       "\n",
       "   engine  Seats  \n",
       "0      60      2  \n",
       "1      19      2  \n",
       "2      88      2  "
      ]
     },
     "execution_count": 51,
     "metadata": {},
     "output_type": "execute_result"
    }
   ],
   "source": [
    "input_data = dataset.iloc[:,:-1]\n",
    "output_data= dataset[\"car_prices_in_rupee\"]\n",
    "input_data.head(3)"
   ]
  },
  {
   "cell_type": "code",
   "execution_count": 64,
   "id": "24f71266-894b-40b5-a0c1-5e1020faa075",
   "metadata": {},
   "outputs": [],
   "source": [
    "from sklearn.preprocessing import StandardScaler"
   ]
  },
  {
   "cell_type": "code",
   "execution_count": 65,
   "id": "4493a82d-6889-4acd-8aac-afc2b766c9c4",
   "metadata": {},
   "outputs": [],
   "source": [
    "ss= StandardScaler()"
   ]
  },
  {
   "cell_type": "code",
   "execution_count": 66,
   "id": "8bf097fa-c6d1-41de-ba43-250517436202",
   "metadata": {},
   "outputs": [],
   "source": [
    "input_data = pd.DataFrame(ss.fit_transform(input_data),columns=input_data.columns)"
   ]
  },
  {
   "cell_type": "code",
   "execution_count": 67,
   "id": "2a2dfa95-e7f4-4d19-a3da-6e8f592fa71c",
   "metadata": {},
   "outputs": [
    {
     "data": {
      "text/html": [
       "<div>\n",
       "<style scoped>\n",
       "    .dataframe tbody tr th:only-of-type {\n",
       "        vertical-align: middle;\n",
       "    }\n",
       "\n",
       "    .dataframe tbody tr th {\n",
       "        vertical-align: top;\n",
       "    }\n",
       "\n",
       "    .dataframe thead th {\n",
       "        text-align: right;\n",
       "    }\n",
       "</style>\n",
       "<table border=\"1\" class=\"dataframe\">\n",
       "  <thead>\n",
       "    <tr style=\"text-align: right;\">\n",
       "      <th></th>\n",
       "      <th>car_name</th>\n",
       "      <th>kms_driven</th>\n",
       "      <th>fuel_type</th>\n",
       "      <th>transmission</th>\n",
       "      <th>ownership</th>\n",
       "      <th>manufacture</th>\n",
       "      <th>engine</th>\n",
       "      <th>Seats</th>\n",
       "    </tr>\n",
       "  </thead>\n",
       "  <tbody>\n",
       "    <tr>\n",
       "      <th>0</th>\n",
       "      <td>-0.336744</td>\n",
       "      <td>1.410944</td>\n",
       "      <td>-1.068243</td>\n",
       "      <td>0.625473</td>\n",
       "      <td>-0.599986</td>\n",
       "      <td>0.393228</td>\n",
       "      <td>0.159641</td>\n",
       "      <td>-0.35118</td>\n",
       "    </tr>\n",
       "    <tr>\n",
       "      <th>1</th>\n",
       "      <td>1.020841</td>\n",
       "      <td>-1.086913</td>\n",
       "      <td>0.918538</td>\n",
       "      <td>-1.598790</td>\n",
       "      <td>-0.599986</td>\n",
       "      <td>1.411657</td>\n",
       "      <td>-0.806498</td>\n",
       "      <td>-0.35118</td>\n",
       "    </tr>\n",
       "    <tr>\n",
       "      <th>2</th>\n",
       "      <td>1.528240</td>\n",
       "      <td>0.581011</td>\n",
       "      <td>0.918538</td>\n",
       "      <td>-1.598790</td>\n",
       "      <td>-0.599986</td>\n",
       "      <td>0.138621</td>\n",
       "      <td>0.819443</td>\n",
       "      <td>-0.35118</td>\n",
       "    </tr>\n",
       "    <tr>\n",
       "      <th>3</th>\n",
       "      <td>-1.030061</td>\n",
       "      <td>-0.645087</td>\n",
       "      <td>0.918538</td>\n",
       "      <td>-1.598790</td>\n",
       "      <td>-0.599986</td>\n",
       "      <td>0.647835</td>\n",
       "      <td>-0.924320</td>\n",
       "      <td>-0.35118</td>\n",
       "    </tr>\n",
       "    <tr>\n",
       "      <th>4</th>\n",
       "      <td>1.770320</td>\n",
       "      <td>0.844226</td>\n",
       "      <td>0.918538</td>\n",
       "      <td>0.625473</td>\n",
       "      <td>-0.599986</td>\n",
       "      <td>0.138621</td>\n",
       "      <td>-0.924320</td>\n",
       "      <td>-0.35118</td>\n",
       "    </tr>\n",
       "  </tbody>\n",
       "</table>\n",
       "</div>"
      ],
      "text/plain": [
       "   car_name  kms_driven  fuel_type  transmission  ownership  manufacture  \\\n",
       "0 -0.336744    1.410944  -1.068243      0.625473  -0.599986     0.393228   \n",
       "1  1.020841   -1.086913   0.918538     -1.598790  -0.599986     1.411657   \n",
       "2  1.528240    0.581011   0.918538     -1.598790  -0.599986     0.138621   \n",
       "3 -1.030061   -0.645087   0.918538     -1.598790  -0.599986     0.647835   \n",
       "4  1.770320    0.844226   0.918538      0.625473  -0.599986     0.138621   \n",
       "\n",
       "     engine    Seats  \n",
       "0  0.159641 -0.35118  \n",
       "1 -0.806498 -0.35118  \n",
       "2  0.819443 -0.35118  \n",
       "3 -0.924320 -0.35118  \n",
       "4 -0.924320 -0.35118  "
      ]
     },
     "execution_count": 67,
     "metadata": {},
     "output_type": "execute_result"
    }
   ],
   "source": [
    "input_data.head(5)"
   ]
  },
  {
   "cell_type": "markdown",
   "id": "67ab7266-4d58-4c08-a3ea-e404bcc6a081",
   "metadata": {},
   "source": [
    "# THANK YOU\n",
    "\n",
    " #          -----------  By Md Tanzeem  ----------"
   ]
  },
  {
   "cell_type": "code",
   "execution_count": null,
   "id": "fa6ca9d2-1a4d-461c-9d34-f5af30806704",
   "metadata": {},
   "outputs": [],
   "source": []
  },
  {
   "cell_type": "code",
   "execution_count": 68,
   "id": "c5ca0953-e95a-4b44-af1f-8811207bef2b",
   "metadata": {},
   "outputs": [],
   "source": []
  },
  {
   "cell_type": "code",
   "execution_count": null,
   "id": "7469f8be-ddf7-4521-95a6-540382fd8ab1",
   "metadata": {},
   "outputs": [],
   "source": []
  },
  {
   "cell_type": "code",
   "execution_count": null,
   "id": "485c0d00-09aa-4ad9-8de1-e1c365cc1ff9",
   "metadata": {},
   "outputs": [],
   "source": []
  },
  {
   "cell_type": "code",
   "execution_count": null,
   "id": "d075b52b-4a7c-42ef-ac3b-0a9b7d3fa199",
   "metadata": {},
   "outputs": [],
   "source": []
  }
 ],
 "metadata": {
  "kernelspec": {
   "display_name": "Python 3 (ipykernel)",
   "language": "python",
   "name": "python3"
  },
  "language_info": {
   "codemirror_mode": {
    "name": "ipython",
    "version": 3
   },
   "file_extension": ".py",
   "mimetype": "text/x-python",
   "name": "python",
   "nbconvert_exporter": "python",
   "pygments_lexer": "ipython3",
   "version": "3.11.7"
  }
 },
 "nbformat": 4,
 "nbformat_minor": 5
}
